{
  "nbformat": 4,
  "nbformat_minor": 0,
  "metadata": {
    "colab": {
      "name": "new_group_cnn_plant_seedlings.ipynb",
      "provenance": [],
      "collapsed_sections": []
    },
    "kernelspec": {
      "name": "python3",
      "display_name": "Python 3"
    },
    "language_info": {
      "name": "python"
    }
  },
  "cells": [
    {
      "cell_type": "markdown",
      "metadata": {
        "id": "F53zC_VBzn4V"
      },
      "source": [
        "### **Plant seedlings classification using CNN**"
      ]
    },
    {
      "cell_type": "markdown",
      "metadata": {
        "id": "DDyU6wHWz5fm"
      },
      "source": [
        "**Importing the required packages**"
      ]
    },
    {
      "cell_type": "code",
      "metadata": {
        "id": "9DEySzoUn0dK"
      },
      "source": [
        "import numpy as np\n",
        "import matplotlib.pyplot as plt\n",
        "import os\n",
        "import cv2\n",
        "import pickle\n",
        "import random\n",
        "import tensorflow as tf\n",
        "from tensorflow.keras.models import Sequential\n",
        "from tensorflow.keras.layers import Dense, Dropout, Flatten, Activation, Conv2D, MaxPooling2D, BatchNormalization\n",
        "from tensorflow.keras.callbacks import TensorBoard\n",
        "import time\n",
        "from sklearn.model_selection import KFold"
      ],
      "execution_count": null,
      "outputs": []
    },
    {
      "cell_type": "markdown",
      "metadata": {
        "id": "BAZnPuk4z1sU"
      },
      "source": [
        "**Mounting the google drive**"
      ]
    },
    {
      "cell_type": "code",
      "metadata": {
        "colab": {
          "base_uri": "https://localhost:8080/"
        },
        "id": "PCdR9nFVoe98",
        "outputId": "ab4afe12-4ace-4855-8fe2-d7a149e9b57a"
      },
      "source": [
        "from google.colab import drive\n",
        "drive.mount('/content/drive')"
      ],
      "execution_count": null,
      "outputs": [
        {
          "output_type": "stream",
          "text": [
            "Drive already mounted at /content/drive; to attempt to forcibly remount, call drive.mount(\"/content/drive\", force_remount=True).\n"
          ],
          "name": "stdout"
        }
      ]
    },
    {
      "cell_type": "code",
      "metadata": {
        "id": "OkMuAHcloNYO"
      },
      "source": [
        "DATA_DIR_TRAIN = \"/content/drive/MyDrive/MSC/NeuralNetwork/CNNAssignment/data/train\"\n",
        "DATA_DIR_TEST = \"/content/drive/MyDrive/MSC/NeuralNetwork/CNNAssignment/data/test\""
      ],
      "execution_count": null,
      "outputs": []
    },
    {
      "cell_type": "code",
      "metadata": {
        "id": "e0h0DVcjor3R"
      },
      "source": [
        "IMG_SIZE = 80\n",
        "\n",
        "CATEGORIES = [\n",
        "    \"Black-grass\",\n",
        "    \"Charlock\",\n",
        "    \"Cleavers\",\n",
        "    \"Common Chickweed\",\n",
        "    \"Common wheat\",\n",
        "    \"Fat Hen\",\n",
        "    \"Loose Silky-bent\",\n",
        "    \"Maize\",\n",
        "    \"Scentless Mayweed\",\n",
        "    \"Shepherds Purse\",\n",
        "    \"Small-flowered Cranesbill\",\n",
        "    \"Sugar beet\"\n",
        "]"
      ],
      "execution_count": null,
      "outputs": []
    },
    {
      "cell_type": "markdown",
      "metadata": {
        "id": "EjIcjHun5_pm"
      },
      "source": [
        "**Create training data**"
      ]
    },
    {
      "cell_type": "code",
      "metadata": {
        "id": "D-yKTGVFpKBn"
      },
      "source": [
        "training_data = []\n",
        "\n",
        "def create_training_data():    \n",
        "    for category in CATEGORIES:\n",
        "        path = os.path.join(DATA_DIR_TRAIN, category)  # path to a specific category\n",
        "        class_num = CATEGORIES.index(category)\n",
        "        for img in os.listdir(path):\n",
        "            try:\n",
        "                img_array = cv2.imread(os.path.join(path, img), cv2.IMREAD_GRAYSCALE)\n",
        "                new_array = cv2.resize(img_array, (IMG_SIZE, IMG_SIZE))\n",
        "                training_data.append([new_array, class_num])\n",
        "            except Exception as e:\n",
        "                pass\n",
        "            \n",
        "create_training_data()"
      ],
      "execution_count": null,
      "outputs": []
    },
    {
      "cell_type": "code",
      "metadata": {
        "colab": {
          "base_uri": "https://localhost:8080/"
        },
        "id": "mmEyKg9RzoTA",
        "outputId": "845bf3c9-2d6a-4d4a-f8a4-0409d0f092b5"
      },
      "source": [
        "print(len(training_data))"
      ],
      "execution_count": null,
      "outputs": [
        {
          "output_type": "stream",
          "text": [
            "4790\n"
          ],
          "name": "stdout"
        }
      ]
    },
    {
      "cell_type": "code",
      "metadata": {
        "id": "8ydqANFlzsMs"
      },
      "source": [
        "random.shuffle(training_data)"
      ],
      "execution_count": null,
      "outputs": []
    },
    {
      "cell_type": "code",
      "metadata": {
        "id": "KOvJ0BMNzyem"
      },
      "source": [
        "X = []\n",
        "Y = []\n",
        "\n",
        "for features, label in training_data:\n",
        "    X.append(features)\n",
        "    Y.append(label)\n",
        "\n",
        "X = np.array(X).reshape(-1, IMG_SIZE, IMG_SIZE, 1)\n",
        "Y = np.array(Y)"
      ],
      "execution_count": null,
      "outputs": []
    },
    {
      "cell_type": "code",
      "metadata": {
        "id": "ncV18yOOz3QY"
      },
      "source": [
        "\n",
        "X = X/255"
      ],
      "execution_count": null,
      "outputs": []
    },
    {
      "cell_type": "code",
      "metadata": {
        "id": "8TVfAv8lz8g_"
      },
      "source": [
        "pickle_out = open(f\"/content/drive/MyDrive/MSC/NeuralNetwork/CNNAssignment/X_{IMG_SIZE}.pickle\", \"wb\")\n",
        "pickle.dump(X, pickle_out)\n",
        "pickle_out.close()\n",
        "\n",
        "pickle_out = open(f\"/content/drive/MyDrive/MSC/NeuralNetwork/CNNAssignment/Y_{IMG_SIZE}.pickle\", \"wb\")\n",
        "pickle.dump(Y, pickle_out)\n",
        "pickle_out.close()"
      ],
      "execution_count": null,
      "outputs": []
    },
    {
      "cell_type": "code",
      "metadata": {
        "id": "_IGumZuJ0GOu"
      },
      "source": [
        "pickle_in = open(f\"/content/drive/MyDrive/MSC/NeuralNetwork/CNNAssignment/X_{IMG_SIZE}.pickle\", \"rb\")\n",
        "X = pickle.load(pickle_in)\n",
        "pickle_in.close()\n",
        "\n",
        "pickle_in = open(f\"/content/drive/MyDrive/MSC/NeuralNetwork/CNNAssignment/Y_{IMG_SIZE}.pickle\", \"rb\")\n",
        "Y = pickle.load(pickle_in)\n",
        "pickle_in.close()"
      ],
      "execution_count": null,
      "outputs": []
    },
    {
      "cell_type": "markdown",
      "metadata": {
        "id": "mfaXkrNe0Nvz"
      },
      "source": [
        "**Specifing run configurations and regularization constants. These are used to tweak the model.**\n"
      ]
    },
    {
      "cell_type": "code",
      "metadata": {
        "id": "_ILbAFZg0OmP"
      },
      "source": [
        "# RUN CONFIGURATIONS\n",
        "TEST = 21\n",
        "CNN_ACT_F = \"relu\"\n",
        "DNS_ACT_F = \"tanh\"\n",
        "ARCH = f\"CNN(64,128,256)_{CNN_ACT_F}_DENSE(128,64,32,12)_{DNS_ACT_F}\"\n",
        "IMG_SIZE = 80\n",
        "N_SPLIT = 5\n",
        "EPOCHS = 30\n",
        "BATCH_SIZE = 50\n",
        "VAL_SPLIT = 0.1\n",
        "\n",
        "LR = 0.0095\n",
        "MM = 0.9\n",
        "\n",
        "\n",
        "# REGULARIZATIONS\n",
        "DROPOUT_RATE = 0.5\n",
        "LAMBDA_1 = 1e-5\n",
        "LAMBDA_2 = 1e-6"
      ],
      "execution_count": null,
      "outputs": []
    },
    {
      "cell_type": "code",
      "metadata": {
        "id": "bhlRiSO90Tnj"
      },
      "source": [
        "X = pickle.load(open(f\"/content/drive/MyDrive/MSC/NeuralNetwork/CNNAssignment/X_{IMG_SIZE}.pickle\", \"rb\"))\n",
        "Y = pickle.load(open(f\"/content/drive/MyDrive/MSC/NeuralNetwork/CNNAssignment/Y_{IMG_SIZE}.pickle\", \"rb\"))"
      ],
      "execution_count": null,
      "outputs": []
    },
    {
      "cell_type": "code",
      "metadata": {
        "id": "C3ZI-7wiC6bS"
      },
      "source": [
        "SET_1 = f\"{TEST} - {ARCH} - {IMG_SIZE}px_{EPOCHS}e_{BATCH_SIZE}bs_{int(VAL_SPLIT*100)}vs_REG_{int(DROPOUT_RATE*100)}do_{int(LAMBDA_1*1000000)}L1_{int(LAMBDA_2*1000000)}L2\"\n",
        "SET_2 = f\"{TEST} - {IMG_SIZE}px_{EPOCHS}e_{BATCH_SIZE}bs_{int(VAL_SPLIT*100)}vs_REG_{int(DROPOUT_RATE*100)}do_{int(LAMBDA_1*1000000)}L1_{int(LAMBDA_2*1000000)}L2_{int(LR*10000)}LR_{int(MM*100)}M\"\n",
        "REPORT_NAME = SET_2"
      ],
      "execution_count": null,
      "outputs": []
    },
    {
      "cell_type": "code",
      "metadata": {
        "id": "JE6FQdPcC8Dp"
      },
      "source": [
        "    \n",
        "\n",
        "MODEL_NAME = f\"NN_GA_CNN_{int(time.time())}\"\n",
        "\n",
        "tensorboard = TensorBoard(log_dir=f\"logs/{MODEL_NAME}\")\n",
        "\n",
        "def create_cnn_model():\n",
        "\n",
        "  model = Sequential()\n",
        "  model.add(Conv2D(64, (3,3), input_shape=(IMG_SIZE,IMG_SIZE,1)))  # input shape is IMG_SIZExIMG_SIZEx1\n",
        "#     model.add(BatchNormalization(axis=3))\n",
        "  model.add(Activation(CNN_ACT_F))\n",
        "  model.add(MaxPooling2D(pool_size=(3,3), strides=(2, 2)))\n",
        "    \n",
        "  model.add(Conv2D(128, (3,3)))\n",
        "  model.add(Activation(CNN_ACT_F))\n",
        "  model.add(MaxPooling2D(pool_size=(3,3), strides=(2, 2)))\n",
        "    \n",
        "  model.add(Conv2D(256, (3,3)))\n",
        "  model.add(Activation(CNN_ACT_F))\n",
        "  model.add(MaxPooling2D(pool_size=(3,3), strides=(2, 2)))\n",
        "    \n",
        "#     model.add(Conv2D(128, (3,3)))\n",
        "#     model.add(Activation(CNN_ACT_F))\n",
        "#     model.add(MaxPooling2D(pool_size=(3,3), strides=(2, 2)))\n",
        "    \n",
        "#     model.add(Conv2D(256, (3,3)))\n",
        "#     model.add(Activation(CNN_ACT_F))\n",
        "#     model.add(MaxPooling2D(pool_size=(3,3), strides=(2, 2)))\n",
        "    \n",
        "#     model.add(Conv2D(256, (3,3)))\n",
        "#     model.add(Activation(CNN_ACT_F))\n",
        "#     model.add(MaxPooling2D(pool_size=(3,3), strides=(2, 2)))\n",
        "    \n",
        "#     model.add(Conv2D(256, (3,3)))\n",
        "#     model.add(Activation(CNN_ACT_F))\n",
        "#     model.add(MaxPooling2D(pool_size=(3,3), strides=(2, 2)))\n",
        "    \n",
        "#     model.add(Dropout(rate=DROPOUT_RATE))\n",
        "    \n",
        "  model.add(Flatten())\n",
        "    \n",
        "#     model.add(Dense(128))\n",
        "  model.add(Dense(128, kernel_regularizer=tf.keras.regularizers.l1_l2(l1=LAMBDA_1, l2=LAMBDA_2)))\n",
        "  model.add(Activation(DNS_ACT_F))\n",
        "    \n",
        "  model.add(Dense(64, kernel_regularizer=tf.keras.regularizers.l1_l2(l1=LAMBDA_1, l2=LAMBDA_2)))\n",
        "  model.add(Activation(DNS_ACT_F))\n",
        "    \n",
        "  model.add(Dense(32, kernel_regularizer=tf.keras.regularizers.l1_l2(l1=LAMBDA_1, l2=LAMBDA_2)))\n",
        "  model.add(Activation(DNS_ACT_F))\n",
        "    \n",
        "  model.add(Dense(12))\n",
        "  model.add(Activation(\"softmax\"))\n",
        "    \n",
        "  optimizer = tf.keras.optimizers.SGD(lr=LR, momentum=MM, nesterov=False)\n",
        "  model.compile(optimizer=optimizer, loss=\"sparse_categorical_crossentropy\", metrics=[\"accuracy\"])\n",
        "    \n",
        "  return model"
      ],
      "execution_count": null,
      "outputs": []
    },
    {
      "cell_type": "code",
      "metadata": {
        "id": "1pa4PAkSDQff"
      },
      "source": [
        "report_dir = \"/content/drive/MyDrive/MSC/NeuralNetwork/CNNAssignment/reports\"\n",
        "if not os.path.exists(report_dir):\n",
        "    os.makedirs(report_dir)\n",
        "file = open(f\"{report_dir}/{REPORT_NAME}.txt\", \"w\")"
      ],
      "execution_count": null,
      "outputs": []
    },
    {
      "cell_type": "code",
      "metadata": {
        "colab": {
          "base_uri": "https://localhost:8080/"
        },
        "id": "D4rgm-XrcYQR",
        "outputId": "366656a3-9be8-44d9-ff9d-99ec1a1dcd25"
      },
      "source": [
        "# initializing variables for kFold run and average accuracy\n",
        "current_fold = 0\n",
        "sum_acc = 0\n",
        "avg_acc = 0\n",
        "\n",
        "start = time.process_time()\n",
        "\n",
        "for train_index, test_index in KFold(N_SPLIT).split(X):\n",
        "    current_fold += 1\n",
        "    \n",
        "    x_train, x_test = X[train_index], X[test_index]\n",
        "    y_train, y_test = Y[train_index], Y[test_index]\n",
        "    \n",
        "    model = create_cnn_model()\n",
        "    \n",
        "#     earlystopping = tf.keras.callbacks.EarlyStopping(monitor='val_loss', patience=3)\n",
        "    \n",
        "    model.fit(x_train, y_train, epochs=EPOCHS, batch_size=BATCH_SIZE, validation_split=VAL_SPLIT, callbacks=[tensorboard])\n",
        "    \n",
        "    val_loss, val_acc = model.evaluate(x_test, y_test)\n",
        "    print(f\"\\nFOLD-{current_fold}: Loss={val_loss} , Accuracy={val_acc}\\n\")\n",
        "    \n",
        "    sum_acc += val_acc \n",
        "    file.write(f\"{current_fold}-FOLD | Loss={round(val_loss,4)},\\tAccuracy={round(val_acc,4)},\\tAverage_Accuracy={round(sum_acc/current_fold,4)}\\n\")\n",
        "    \n",
        "    if(current_fold == N_SPLIT):\n",
        "        avg_acc = round(sum_acc/current_fold,4)\n",
        "    \n",
        "\n",
        "avg_acc_line = f\"\\nAverage Accuracy : {round(avg_acc,4)}\"\n",
        "\n",
        "end = time.process_time()\n",
        "time_taken = f\"\\nExecution Time\\t : {round(end-start,4)}s\"\n",
        "\n",
        "print(avg_acc_line)\n",
        "print(time_taken)\n",
        "\n",
        "file.write(avg_acc_line)\n",
        "file.write(time_taken)\n",
        "    \n",
        "file.close()"
      ],
      "execution_count": null,
      "outputs": [
        {
          "metadata": {
            "tags": null
          },
          "name": "stderr",
          "output_type": "stream",
          "text": [
            "/usr/local/lib/python3.7/dist-packages/keras/optimizer_v2/optimizer_v2.py:356: UserWarning: The `lr` argument is deprecated, use `learning_rate` instead.\n",
            "  \"The `lr` argument is deprecated, use `learning_rate` instead.\")\n"
          ]
        },
        {
          "output_type": "stream",
          "text": [
            "Epoch 1/30\n",
            "69/69 [==============================] - 97s 1s/step - loss: 2.6199 - accuracy: 0.1343 - val_loss: 2.5815 - val_accuracy: 0.1302\n",
            "Epoch 2/30\n",
            "69/69 [==============================] - 95s 1s/step - loss: 2.5765 - accuracy: 0.1514 - val_loss: 2.5206 - val_accuracy: 0.1302\n",
            "Epoch 3/30\n",
            "69/69 [==============================] - 98s 1s/step - loss: 2.5330 - accuracy: 0.1560 - val_loss: 2.4927 - val_accuracy: 0.2083\n",
            "Epoch 4/30\n",
            "69/69 [==============================] - 95s 1s/step - loss: 2.5028 - accuracy: 0.1795 - val_loss: 2.4719 - val_accuracy: 0.2161\n",
            "Epoch 5/30\n",
            "69/69 [==============================] - 95s 1s/step - loss: 2.4834 - accuracy: 0.1969 - val_loss: 2.5014 - val_accuracy: 0.1771\n",
            "Epoch 6/30\n",
            "69/69 [==============================] - 98s 1s/step - loss: 2.4361 - accuracy: 0.2027 - val_loss: 2.3622 - val_accuracy: 0.2474\n",
            "Epoch 7/30\n",
            "69/69 [==============================] - 96s 1s/step - loss: 2.3626 - accuracy: 0.2497 - val_loss: 2.3216 - val_accuracy: 0.2604\n",
            "Epoch 8/30\n",
            "69/69 [==============================] - 95s 1s/step - loss: 2.2587 - accuracy: 0.2918 - val_loss: 2.3705 - val_accuracy: 0.2734\n",
            "Epoch 9/30\n",
            "69/69 [==============================] - 95s 1s/step - loss: 2.2074 - accuracy: 0.3013 - val_loss: 2.2420 - val_accuracy: 0.2917\n",
            "Epoch 10/30\n",
            "69/69 [==============================] - 95s 1s/step - loss: 2.0864 - accuracy: 0.3477 - val_loss: 2.1127 - val_accuracy: 0.3229\n",
            "Epoch 11/30\n",
            "69/69 [==============================] - 95s 1s/step - loss: 1.9639 - accuracy: 0.3852 - val_loss: 1.9728 - val_accuracy: 0.3932\n",
            "Epoch 12/30\n",
            "69/69 [==============================] - 95s 1s/step - loss: 1.7863 - accuracy: 0.4437 - val_loss: 2.0107 - val_accuracy: 0.3854\n",
            "Epoch 13/30\n",
            "69/69 [==============================] - 95s 1s/step - loss: 1.6382 - accuracy: 0.5067 - val_loss: 1.7720 - val_accuracy: 0.4401\n",
            "Epoch 14/30\n",
            "69/69 [==============================] - 95s 1s/step - loss: 1.4283 - accuracy: 0.5774 - val_loss: 1.7425 - val_accuracy: 0.4844\n",
            "Epoch 15/30\n",
            "69/69 [==============================] - 95s 1s/step - loss: 1.3497 - accuracy: 0.6085 - val_loss: 1.8196 - val_accuracy: 0.4271\n",
            "Epoch 16/30\n",
            "69/69 [==============================] - 95s 1s/step - loss: 1.1683 - accuracy: 0.6697 - val_loss: 1.6166 - val_accuracy: 0.4922\n",
            "Epoch 17/30\n",
            "69/69 [==============================] - 96s 1s/step - loss: 1.0281 - accuracy: 0.7230 - val_loss: 1.6502 - val_accuracy: 0.5260\n",
            "Epoch 18/30\n",
            "69/69 [==============================] - 95s 1s/step - loss: 0.8725 - accuracy: 0.7860 - val_loss: 1.6323 - val_accuracy: 0.5156\n",
            "Epoch 19/30\n",
            "69/69 [==============================] - 95s 1s/step - loss: 0.7272 - accuracy: 0.8361 - val_loss: 1.6586 - val_accuracy: 0.5182\n",
            "Epoch 20/30\n",
            "69/69 [==============================] - 95s 1s/step - loss: 0.6215 - accuracy: 0.8666 - val_loss: 1.6123 - val_accuracy: 0.5547\n",
            "Epoch 21/30\n",
            "69/69 [==============================] - 95s 1s/step - loss: 0.4990 - accuracy: 0.9197 - val_loss: 1.7537 - val_accuracy: 0.5443\n",
            "Epoch 22/30\n",
            "69/69 [==============================] - 95s 1s/step - loss: 0.4255 - accuracy: 0.9385 - val_loss: 1.6709 - val_accuracy: 0.5729\n",
            "Epoch 23/30\n",
            "69/69 [==============================] - 96s 1s/step - loss: 0.3049 - accuracy: 0.9809 - val_loss: 1.6388 - val_accuracy: 0.5677\n",
            "Epoch 24/30\n",
            "69/69 [==============================] - 96s 1s/step - loss: 0.2542 - accuracy: 0.9936 - val_loss: 1.6828 - val_accuracy: 0.5599\n",
            "Epoch 25/30\n",
            "69/69 [==============================] - 98s 1s/step - loss: 0.2239 - accuracy: 0.9980 - val_loss: 1.7453 - val_accuracy: 0.5599\n",
            "Epoch 26/30\n",
            "69/69 [==============================] - 96s 1s/step - loss: 0.2084 - accuracy: 0.9997 - val_loss: 1.7198 - val_accuracy: 0.5911\n",
            "Epoch 27/30\n",
            "69/69 [==============================] - 99s 1s/step - loss: 0.2001 - accuracy: 1.0000 - val_loss: 1.7392 - val_accuracy: 0.6016\n",
            "Epoch 28/30\n",
            "69/69 [==============================] - 96s 1s/step - loss: 0.1946 - accuracy: 1.0000 - val_loss: 1.7625 - val_accuracy: 0.5885\n",
            "Epoch 29/30\n",
            "69/69 [==============================] - 96s 1s/step - loss: 0.1908 - accuracy: 1.0000 - val_loss: 1.7637 - val_accuracy: 0.5911\n",
            "Epoch 30/30\n",
            "69/69 [==============================] - 96s 1s/step - loss: 0.1878 - accuracy: 1.0000 - val_loss: 1.7863 - val_accuracy: 0.5911\n",
            "30/30 [==============================] - 7s 220ms/step - loss: 1.7528 - accuracy: 0.5908\n",
            "\n",
            "FOLD-1: Loss=1.7527867555618286 , Accuracy=0.5908141732215881\n",
            "\n",
            "Epoch 1/30\n",
            "69/69 [==============================] - 95s 1s/step - loss: 2.6176 - accuracy: 0.1288 - val_loss: 2.5853 - val_accuracy: 0.1328\n",
            "Epoch 2/30\n",
            "69/69 [==============================] - 94s 1s/step - loss: 2.5790 - accuracy: 0.1386 - val_loss: 2.5449 - val_accuracy: 0.1172\n",
            "Epoch 3/30\n",
            "69/69 [==============================] - 95s 1s/step - loss: 2.5278 - accuracy: 0.1679 - val_loss: 2.4909 - val_accuracy: 0.1953\n",
            "Epoch 4/30\n",
            "69/69 [==============================] - 95s 1s/step - loss: 2.5010 - accuracy: 0.1755 - val_loss: 2.4733 - val_accuracy: 0.1979\n",
            "Epoch 5/30\n",
            "69/69 [==============================] - 95s 1s/step - loss: 2.4672 - accuracy: 0.1972 - val_loss: 2.4254 - val_accuracy: 0.2109\n",
            "Epoch 6/30\n",
            "69/69 [==============================] - 95s 1s/step - loss: 2.4089 - accuracy: 0.2280 - val_loss: 2.4727 - val_accuracy: 0.1901\n",
            "Epoch 7/30\n",
            "69/69 [==============================] - 94s 1s/step - loss: 2.3910 - accuracy: 0.2271 - val_loss: 2.3289 - val_accuracy: 0.2656\n",
            "Epoch 8/30\n",
            "69/69 [==============================] - 94s 1s/step - loss: 2.2786 - accuracy: 0.2715 - val_loss: 2.3401 - val_accuracy: 0.2656\n",
            "Epoch 9/30\n",
            "69/69 [==============================] - 94s 1s/step - loss: 2.1901 - accuracy: 0.3095 - val_loss: 2.2053 - val_accuracy: 0.2786\n",
            "Epoch 10/30\n",
            "69/69 [==============================] - 94s 1s/step - loss: 1.9861 - accuracy: 0.3991 - val_loss: 2.0876 - val_accuracy: 0.3411\n",
            "Epoch 11/30\n",
            "69/69 [==============================] - 94s 1s/step - loss: 1.8371 - accuracy: 0.4481 - val_loss: 2.1614 - val_accuracy: 0.2943\n",
            "Epoch 12/30\n",
            "69/69 [==============================] - 94s 1s/step - loss: 1.6445 - accuracy: 0.5104 - val_loss: 1.8256 - val_accuracy: 0.4167\n",
            "Epoch 13/30\n",
            "69/69 [==============================] - 94s 1s/step - loss: 1.5616 - accuracy: 0.5348 - val_loss: 1.7672 - val_accuracy: 0.4505\n",
            "Epoch 14/30\n",
            "69/69 [==============================] - 94s 1s/step - loss: 1.3337 - accuracy: 0.6224 - val_loss: 1.7133 - val_accuracy: 0.5000\n",
            "Epoch 15/30\n",
            "69/69 [==============================] - 94s 1s/step - loss: 1.1634 - accuracy: 0.6856 - val_loss: 1.7496 - val_accuracy: 0.4635\n",
            "Epoch 16/30\n",
            "69/69 [==============================] - 94s 1s/step - loss: 1.0475 - accuracy: 0.7256 - val_loss: 1.6965 - val_accuracy: 0.4974\n",
            "Epoch 17/30\n",
            "69/69 [==============================] - 94s 1s/step - loss: 0.8756 - accuracy: 0.7912 - val_loss: 1.8060 - val_accuracy: 0.4688\n",
            "Epoch 18/30\n",
            "69/69 [==============================] - 94s 1s/step - loss: 0.7632 - accuracy: 0.8164 - val_loss: 1.6999 - val_accuracy: 0.4766\n",
            "Epoch 19/30\n",
            "69/69 [==============================] - 94s 1s/step - loss: 0.6291 - accuracy: 0.8718 - val_loss: 1.8110 - val_accuracy: 0.5130\n",
            "Epoch 20/30\n",
            "69/69 [==============================] - 94s 1s/step - loss: 0.5017 - accuracy: 0.9139 - val_loss: 1.7965 - val_accuracy: 0.5104\n",
            "Epoch 21/30\n",
            "69/69 [==============================] - 94s 1s/step - loss: 0.3918 - accuracy: 0.9519 - val_loss: 1.7123 - val_accuracy: 0.5469\n",
            "Epoch 22/30\n",
            "69/69 [==============================] - 94s 1s/step - loss: 0.3172 - accuracy: 0.9771 - val_loss: 2.0284 - val_accuracy: 0.4844\n",
            "Epoch 23/30\n",
            "69/69 [==============================] - 94s 1s/step - loss: 0.2695 - accuracy: 0.9910 - val_loss: 1.8192 - val_accuracy: 0.5599\n",
            "Epoch 24/30\n",
            "69/69 [==============================] - 94s 1s/step - loss: 0.2239 - accuracy: 0.9983 - val_loss: 1.8130 - val_accuracy: 0.5521\n",
            "Epoch 25/30\n",
            "69/69 [==============================] - 94s 1s/step - loss: 0.2052 - accuracy: 0.9997 - val_loss: 1.8175 - val_accuracy: 0.5521\n",
            "Epoch 26/30\n",
            "69/69 [==============================] - 94s 1s/step - loss: 0.1983 - accuracy: 0.9997 - val_loss: 1.8337 - val_accuracy: 0.5599\n",
            "Epoch 27/30\n",
            "69/69 [==============================] - 94s 1s/step - loss: 0.1937 - accuracy: 1.0000 - val_loss: 1.8420 - val_accuracy: 0.5729\n",
            "Epoch 28/30\n",
            "69/69 [==============================] - 94s 1s/step - loss: 0.1904 - accuracy: 1.0000 - val_loss: 1.8613 - val_accuracy: 0.5729\n",
            "Epoch 29/30\n",
            "69/69 [==============================] - 94s 1s/step - loss: 0.1877 - accuracy: 1.0000 - val_loss: 1.8742 - val_accuracy: 0.5781\n",
            "Epoch 30/30\n",
            "69/69 [==============================] - 94s 1s/step - loss: 0.1854 - accuracy: 1.0000 - val_loss: 1.8818 - val_accuracy: 0.5729\n",
            "30/30 [==============================] - 6s 212ms/step - loss: 1.8150 - accuracy: 0.5887\n",
            "\n",
            "FOLD-2: Loss=1.815039873123169 , Accuracy=0.5887265205383301\n",
            "\n",
            "Epoch 1/30\n",
            "69/69 [==============================] - 95s 1s/step - loss: 2.6109 - accuracy: 0.1366 - val_loss: 2.5807 - val_accuracy: 0.1693\n",
            "Epoch 2/30\n",
            "69/69 [==============================] - 94s 1s/step - loss: 2.5510 - accuracy: 0.1543 - val_loss: 2.5071 - val_accuracy: 0.1745\n",
            "Epoch 3/30\n",
            "69/69 [==============================] - 93s 1s/step - loss: 2.5257 - accuracy: 0.1691 - val_loss: 2.4639 - val_accuracy: 0.1979\n",
            "Epoch 4/30\n",
            "69/69 [==============================] - 93s 1s/step - loss: 2.5070 - accuracy: 0.1737 - val_loss: 2.5257 - val_accuracy: 0.1771\n",
            "Epoch 5/30\n",
            "69/69 [==============================] - 94s 1s/step - loss: 2.4702 - accuracy: 0.1961 - val_loss: 2.4264 - val_accuracy: 0.2057\n",
            "Epoch 6/30\n",
            "69/69 [==============================] - 97s 1s/step - loss: 2.4765 - accuracy: 0.1969 - val_loss: 2.4262 - val_accuracy: 0.2760\n",
            "Epoch 7/30\n",
            "69/69 [==============================] - 94s 1s/step - loss: 2.3898 - accuracy: 0.2335 - val_loss: 2.4020 - val_accuracy: 0.2344\n",
            "Epoch 8/30\n",
            "69/69 [==============================] - 95s 1s/step - loss: 2.3182 - accuracy: 0.2616 - val_loss: 2.3504 - val_accuracy: 0.2526\n",
            "Epoch 9/30\n",
            "69/69 [==============================] - 95s 1s/step - loss: 2.2117 - accuracy: 0.3106 - val_loss: 2.1918 - val_accuracy: 0.3073\n",
            "Epoch 10/30\n",
            "69/69 [==============================] - 95s 1s/step - loss: 2.0497 - accuracy: 0.3765 - val_loss: 2.0656 - val_accuracy: 0.3464\n",
            "Epoch 11/30\n",
            "69/69 [==============================] - 94s 1s/step - loss: 1.9188 - accuracy: 0.4252 - val_loss: 2.1353 - val_accuracy: 0.3359\n",
            "Epoch 12/30\n",
            "69/69 [==============================] - 94s 1s/step - loss: 1.7124 - accuracy: 0.4817 - val_loss: 1.9050 - val_accuracy: 0.4349\n",
            "Epoch 13/30\n",
            "69/69 [==============================] - 93s 1s/step - loss: 1.5401 - accuracy: 0.5479 - val_loss: 1.6582 - val_accuracy: 0.4974\n",
            "Epoch 14/30\n",
            "69/69 [==============================] - 93s 1s/step - loss: 1.4249 - accuracy: 0.5864 - val_loss: 1.6246 - val_accuracy: 0.5234\n",
            "Epoch 15/30\n",
            "69/69 [==============================] - 93s 1s/step - loss: 1.2512 - accuracy: 0.6502 - val_loss: 1.6228 - val_accuracy: 0.5130\n",
            "Epoch 16/30\n",
            "69/69 [==============================] - 93s 1s/step - loss: 1.1580 - accuracy: 0.6729 - val_loss: 1.7500 - val_accuracy: 0.4818\n",
            "Epoch 17/30\n",
            "69/69 [==============================] - 92s 1s/step - loss: 1.0480 - accuracy: 0.7169 - val_loss: 1.5924 - val_accuracy: 0.5365\n",
            "Epoch 18/30\n",
            "69/69 [==============================] - 93s 1s/step - loss: 0.8505 - accuracy: 0.7822 - val_loss: 1.5854 - val_accuracy: 0.5599\n",
            "Epoch 19/30\n",
            "69/69 [==============================] - 93s 1s/step - loss: 0.7378 - accuracy: 0.8196 - val_loss: 1.5130 - val_accuracy: 0.5807\n",
            "Epoch 20/30\n",
            "69/69 [==============================] - 93s 1s/step - loss: 0.5996 - accuracy: 0.8805 - val_loss: 1.5671 - val_accuracy: 0.5911\n",
            "Epoch 21/30\n",
            "69/69 [==============================] - 93s 1s/step - loss: 0.5099 - accuracy: 0.9057 - val_loss: 1.5109 - val_accuracy: 0.6094\n",
            "Epoch 22/30\n",
            "69/69 [==============================] - 93s 1s/step - loss: 0.4150 - accuracy: 0.9426 - val_loss: 1.5740 - val_accuracy: 0.5885\n",
            "Epoch 23/30\n",
            "69/69 [==============================] - 93s 1s/step - loss: 0.3303 - accuracy: 0.9730 - val_loss: 1.6293 - val_accuracy: 0.5703\n",
            "Epoch 24/30\n",
            "69/69 [==============================] - 93s 1s/step - loss: 0.2597 - accuracy: 0.9913 - val_loss: 1.6861 - val_accuracy: 0.6068\n",
            "Epoch 25/30\n",
            "69/69 [==============================] - 93s 1s/step - loss: 0.2256 - accuracy: 0.9971 - val_loss: 1.7115 - val_accuracy: 0.6068\n",
            "Epoch 26/30\n",
            "69/69 [==============================] - 93s 1s/step - loss: 0.2085 - accuracy: 0.9991 - val_loss: 1.7561 - val_accuracy: 0.6016\n",
            "Epoch 27/30\n",
            "69/69 [==============================] - 93s 1s/step - loss: 0.1989 - accuracy: 1.0000 - val_loss: 1.7702 - val_accuracy: 0.6042\n",
            "Epoch 28/30\n",
            "69/69 [==============================] - 93s 1s/step - loss: 0.1940 - accuracy: 1.0000 - val_loss: 1.7884 - val_accuracy: 0.6042\n",
            "Epoch 29/30\n",
            "69/69 [==============================] - 93s 1s/step - loss: 0.1904 - accuracy: 1.0000 - val_loss: 1.8184 - val_accuracy: 0.6172\n",
            "Epoch 30/30\n",
            "69/69 [==============================] - 93s 1s/step - loss: 0.1875 - accuracy: 1.0000 - val_loss: 1.8228 - val_accuracy: 0.6068\n",
            "30/30 [==============================] - 6s 209ms/step - loss: 1.6811 - accuracy: 0.6075\n",
            "\n",
            "FOLD-3: Loss=1.6811374425888062 , Accuracy=0.6075156331062317\n",
            "\n",
            "Epoch 1/30\n",
            "69/69 [==============================] - 93s 1s/step - loss: 2.6146 - accuracy: 0.1314 - val_loss: 2.5752 - val_accuracy: 0.1328\n",
            "Epoch 2/30\n",
            "69/69 [==============================] - 92s 1s/step - loss: 2.5794 - accuracy: 0.1479 - val_loss: 2.5150 - val_accuracy: 0.1953\n",
            "Epoch 3/30\n",
            "69/69 [==============================] - 92s 1s/step - loss: 2.5400 - accuracy: 0.1563 - val_loss: 2.5212 - val_accuracy: 0.1797\n",
            "Epoch 4/30\n",
            "69/69 [==============================] - 92s 1s/step - loss: 2.5130 - accuracy: 0.1647 - val_loss: 2.4656 - val_accuracy: 0.1823\n",
            "Epoch 5/30\n",
            "69/69 [==============================] - 93s 1s/step - loss: 2.4803 - accuracy: 0.1946 - val_loss: 2.4325 - val_accuracy: 0.1797\n",
            "Epoch 6/30\n",
            "69/69 [==============================] - 93s 1s/step - loss: 2.4256 - accuracy: 0.2236 - val_loss: 2.5027 - val_accuracy: 0.1823\n",
            "Epoch 7/30\n",
            "69/69 [==============================] - 93s 1s/step - loss: 2.3816 - accuracy: 0.2355 - val_loss: 2.3437 - val_accuracy: 0.2318\n",
            "Epoch 8/30\n",
            "69/69 [==============================] - 94s 1s/step - loss: 2.3281 - accuracy: 0.2747 - val_loss: 2.2770 - val_accuracy: 0.2760\n",
            "Epoch 9/30\n",
            "69/69 [==============================] - 94s 1s/step - loss: 2.2493 - accuracy: 0.2926 - val_loss: 2.2426 - val_accuracy: 0.2682\n",
            "Epoch 10/30\n",
            "69/69 [==============================] - 94s 1s/step - loss: 2.1474 - accuracy: 0.3286 - val_loss: 2.1742 - val_accuracy: 0.3047\n",
            "Epoch 11/30\n",
            "69/69 [==============================] - 94s 1s/step - loss: 1.9648 - accuracy: 0.4147 - val_loss: 2.1047 - val_accuracy: 0.3620\n",
            "Epoch 12/30\n",
            "69/69 [==============================] - 94s 1s/step - loss: 1.8079 - accuracy: 0.4548 - val_loss: 2.0000 - val_accuracy: 0.3698\n",
            "Epoch 13/30\n",
            "69/69 [==============================] - 94s 1s/step - loss: 1.6772 - accuracy: 0.4913 - val_loss: 1.9095 - val_accuracy: 0.4167\n",
            "Epoch 14/30\n",
            "69/69 [==============================] - 94s 1s/step - loss: 1.5310 - accuracy: 0.5423 - val_loss: 1.7700 - val_accuracy: 0.4609\n",
            "Epoch 15/30\n",
            "69/69 [==============================] - 94s 1s/step - loss: 1.3413 - accuracy: 0.6099 - val_loss: 1.7717 - val_accuracy: 0.4609\n",
            "Epoch 16/30\n",
            "69/69 [==============================] - 94s 1s/step - loss: 1.2821 - accuracy: 0.6404 - val_loss: 1.7100 - val_accuracy: 0.4844\n",
            "Epoch 17/30\n",
            "69/69 [==============================] - 94s 1s/step - loss: 1.0707 - accuracy: 0.7074 - val_loss: 1.6845 - val_accuracy: 0.5130\n",
            "Epoch 18/30\n",
            "69/69 [==============================] - 94s 1s/step - loss: 0.9184 - accuracy: 0.7636 - val_loss: 1.6590 - val_accuracy: 0.5104\n",
            "Epoch 19/30\n",
            "69/69 [==============================] - 94s 1s/step - loss: 0.7982 - accuracy: 0.8112 - val_loss: 1.7464 - val_accuracy: 0.4740\n",
            "Epoch 20/30\n",
            "69/69 [==============================] - 94s 1s/step - loss: 0.6659 - accuracy: 0.8585 - val_loss: 1.6625 - val_accuracy: 0.5182\n",
            "Epoch 21/30\n",
            "69/69 [==============================] - 94s 1s/step - loss: 0.5687 - accuracy: 0.8912 - val_loss: 1.7954 - val_accuracy: 0.5052\n",
            "Epoch 22/30\n",
            "69/69 [==============================] - 94s 1s/step - loss: 0.4872 - accuracy: 0.9142 - val_loss: 1.7686 - val_accuracy: 0.5026\n",
            "Epoch 23/30\n",
            "69/69 [==============================] - 94s 1s/step - loss: 0.3740 - accuracy: 0.9626 - val_loss: 1.7258 - val_accuracy: 0.5495\n",
            "Epoch 24/30\n",
            "69/69 [==============================] - 94s 1s/step - loss: 0.2813 - accuracy: 0.9872 - val_loss: 1.7810 - val_accuracy: 0.5469\n",
            "Epoch 25/30\n",
            "69/69 [==============================] - 94s 1s/step - loss: 0.2440 - accuracy: 0.9951 - val_loss: 1.8069 - val_accuracy: 0.5573\n",
            "Epoch 26/30\n",
            "69/69 [==============================] - 93s 1s/step - loss: 0.2196 - accuracy: 0.9988 - val_loss: 1.8653 - val_accuracy: 0.5677\n",
            "Epoch 27/30\n",
            "69/69 [==============================] - 93s 1s/step - loss: 0.2052 - accuracy: 0.9994 - val_loss: 1.8613 - val_accuracy: 0.5677\n",
            "Epoch 28/30\n",
            "69/69 [==============================] - 94s 1s/step - loss: 0.1980 - accuracy: 0.9997 - val_loss: 1.8825 - val_accuracy: 0.5755\n",
            "Epoch 29/30\n",
            "69/69 [==============================] - 94s 1s/step - loss: 0.1932 - accuracy: 1.0000 - val_loss: 1.8840 - val_accuracy: 0.5781\n",
            "Epoch 30/30\n",
            "69/69 [==============================] - 94s 1s/step - loss: 0.1898 - accuracy: 1.0000 - val_loss: 1.8984 - val_accuracy: 0.5677\n",
            "30/30 [==============================] - 7s 222ms/step - loss: 1.8951 - accuracy: 0.5491\n",
            "\n",
            "FOLD-4: Loss=1.8950755596160889 , Accuracy=0.5490605235099792\n",
            "\n",
            "Epoch 1/30\n",
            "69/69 [==============================] - 100s 1s/step - loss: 2.6250 - accuracy: 0.1314 - val_loss: 2.5853 - val_accuracy: 0.1406\n",
            "Epoch 2/30\n",
            "69/69 [==============================] - 97s 1s/step - loss: 2.5786 - accuracy: 0.1497 - val_loss: 2.5444 - val_accuracy: 0.1302\n",
            "Epoch 3/30\n",
            "69/69 [==============================] - 100s 1s/step - loss: 2.5441 - accuracy: 0.1633 - val_loss: 2.5075 - val_accuracy: 0.1589\n",
            "Epoch 4/30\n",
            "69/69 [==============================] - 98s 1s/step - loss: 2.5049 - accuracy: 0.1708 - val_loss: 2.4773 - val_accuracy: 0.1641\n",
            "Epoch 5/30\n",
            "69/69 [==============================] - 98s 1s/step - loss: 2.4669 - accuracy: 0.1966 - val_loss: 2.4511 - val_accuracy: 0.2083\n",
            "Epoch 6/30\n",
            "69/69 [==============================] - 98s 1s/step - loss: 2.4204 - accuracy: 0.2149 - val_loss: 2.3590 - val_accuracy: 0.1953\n",
            "Epoch 7/30\n",
            "69/69 [==============================] - 97s 1s/step - loss: 2.3409 - accuracy: 0.2538 - val_loss: 2.2562 - val_accuracy: 0.2708\n",
            "Epoch 8/30\n",
            "69/69 [==============================] - 97s 1s/step - loss: 2.2331 - accuracy: 0.2984 - val_loss: 2.1660 - val_accuracy: 0.3750\n",
            "Epoch 9/30\n",
            "69/69 [==============================] - 96s 1s/step - loss: 2.0712 - accuracy: 0.3541 - val_loss: 1.9931 - val_accuracy: 0.3542\n",
            "Epoch 10/30\n",
            "69/69 [==============================] - 98s 1s/step - loss: 1.8653 - accuracy: 0.4292 - val_loss: 1.9603 - val_accuracy: 0.3906\n",
            "Epoch 11/30\n",
            "69/69 [==============================] - 96s 1s/step - loss: 1.7821 - accuracy: 0.4707 - val_loss: 1.8885 - val_accuracy: 0.4245\n",
            "Epoch 12/30\n",
            "69/69 [==============================] - 96s 1s/step - loss: 1.5540 - accuracy: 0.5360 - val_loss: 1.7099 - val_accuracy: 0.4583\n",
            "Epoch 13/30\n",
            "69/69 [==============================] - 96s 1s/step - loss: 1.3604 - accuracy: 0.6038 - val_loss: 1.7122 - val_accuracy: 0.5000\n",
            "Epoch 14/30\n",
            "69/69 [==============================] - 95s 1s/step - loss: 1.2870 - accuracy: 0.6311 - val_loss: 1.6500 - val_accuracy: 0.5026\n",
            "Epoch 15/30\n",
            "69/69 [==============================] - 95s 1s/step - loss: 1.1085 - accuracy: 0.6955 - val_loss: 1.5139 - val_accuracy: 0.5573\n",
            "Epoch 16/30\n",
            "69/69 [==============================] - 96s 1s/step - loss: 0.9456 - accuracy: 0.7558 - val_loss: 1.5392 - val_accuracy: 0.5599\n",
            "Epoch 17/30\n",
            "69/69 [==============================] - 96s 1s/step - loss: 0.8180 - accuracy: 0.7955 - val_loss: 1.5864 - val_accuracy: 0.5625\n",
            "Epoch 18/30\n",
            "69/69 [==============================] - 96s 1s/step - loss: 0.7342 - accuracy: 0.8260 - val_loss: 1.5800 - val_accuracy: 0.5547\n",
            "Epoch 19/30\n",
            "69/69 [==============================] - 96s 1s/step - loss: 0.6049 - accuracy: 0.8785 - val_loss: 1.5907 - val_accuracy: 0.5547\n",
            "Epoch 20/30\n",
            "69/69 [==============================] - 96s 1s/step - loss: 0.4980 - accuracy: 0.9130 - val_loss: 1.8942 - val_accuracy: 0.5391\n",
            "Epoch 21/30\n",
            "69/69 [==============================] - 96s 1s/step - loss: 0.4356 - accuracy: 0.9356 - val_loss: 1.6753 - val_accuracy: 0.5990\n",
            "Epoch 22/30\n",
            "69/69 [==============================] - 96s 1s/step - loss: 0.3153 - accuracy: 0.9794 - val_loss: 1.6345 - val_accuracy: 0.5677\n",
            "Epoch 23/30\n",
            "69/69 [==============================] - 96s 1s/step - loss: 0.2512 - accuracy: 0.9919 - val_loss: 1.5836 - val_accuracy: 0.5990\n",
            "Epoch 24/30\n",
            "69/69 [==============================] - 96s 1s/step - loss: 0.2218 - accuracy: 0.9974 - val_loss: 1.6274 - val_accuracy: 0.5911\n",
            "Epoch 25/30\n",
            "69/69 [==============================] - 96s 1s/step - loss: 0.2080 - accuracy: 0.9988 - val_loss: 1.6148 - val_accuracy: 0.5859\n",
            "Epoch 26/30\n",
            "69/69 [==============================] - 96s 1s/step - loss: 0.1999 - accuracy: 0.9997 - val_loss: 1.6315 - val_accuracy: 0.6016\n",
            "Epoch 27/30\n",
            "69/69 [==============================] - 97s 1s/step - loss: 0.1949 - accuracy: 1.0000 - val_loss: 1.6514 - val_accuracy: 0.5807\n",
            "Epoch 28/30\n",
            "69/69 [==============================] - 96s 1s/step - loss: 0.1912 - accuracy: 1.0000 - val_loss: 1.6568 - val_accuracy: 0.5938\n",
            "Epoch 29/30\n",
            "69/69 [==============================] - 96s 1s/step - loss: 0.1883 - accuracy: 1.0000 - val_loss: 1.6627 - val_accuracy: 0.5938\n",
            "Epoch 30/30\n",
            "69/69 [==============================] - 96s 1s/step - loss: 0.1858 - accuracy: 1.0000 - val_loss: 1.6758 - val_accuracy: 0.5964\n",
            "30/30 [==============================] - 7s 228ms/step - loss: 1.7410 - accuracy: 0.5908\n",
            "\n",
            "FOLD-5: Loss=1.7410088777542114 , Accuracy=0.5908141732215881\n",
            "\n",
            "\n",
            "Average Accuracy : 0.5854\n",
            "\n",
            "Execution Time\t : 27264.1655s\n"
          ],
          "name": "stdout"
        }
      ]
    },
    {
      "cell_type": "code",
      "metadata": {
        "colab": {
          "base_uri": "https://localhost:8080/"
        },
        "id": "r7hUDXz3cmtd",
        "outputId": "b057f911-75b8-4641-f2ce-804ccbfa841d"
      },
      "source": [
        "model.save(f\"{report_dir}/{REPORT_NAME}.model\")"
      ],
      "execution_count": null,
      "outputs": [
        {
          "output_type": "stream",
          "text": [
            "INFO:tensorflow:Assets written to: /content/drive/MyDrive/MSC/NeuralNetwork/CNNAssignment/reports/21 - 80px_30e_50bs_10vs_REG_50do_10L1_1L2_95LR_90M.model/assets\n"
          ],
          "name": "stdout"
        }
      ]
    },
    {
      "cell_type": "code",
      "metadata": {
        "colab": {
          "base_uri": "https://localhost:8080/"
        },
        "id": "nUOE83zmI_UX",
        "outputId": "bc15f877-6e24-4912-9909-38bb74db1b0b"
      },
      "source": [
        "model.summary()"
      ],
      "execution_count": null,
      "outputs": [
        {
          "output_type": "stream",
          "text": [
            "Model: \"sequential_4\"\n",
            "_________________________________________________________________\n",
            "Layer (type)                 Output Shape              Param #   \n",
            "=================================================================\n",
            "conv2d_12 (Conv2D)           (None, 78, 78, 64)        640       \n",
            "_________________________________________________________________\n",
            "activation_28 (Activation)   (None, 78, 78, 64)        0         \n",
            "_________________________________________________________________\n",
            "max_pooling2d_12 (MaxPooling (None, 38, 38, 64)        0         \n",
            "_________________________________________________________________\n",
            "conv2d_13 (Conv2D)           (None, 36, 36, 128)       73856     \n",
            "_________________________________________________________________\n",
            "activation_29 (Activation)   (None, 36, 36, 128)       0         \n",
            "_________________________________________________________________\n",
            "max_pooling2d_13 (MaxPooling (None, 17, 17, 128)       0         \n",
            "_________________________________________________________________\n",
            "conv2d_14 (Conv2D)           (None, 15, 15, 256)       295168    \n",
            "_________________________________________________________________\n",
            "activation_30 (Activation)   (None, 15, 15, 256)       0         \n",
            "_________________________________________________________________\n",
            "max_pooling2d_14 (MaxPooling (None, 7, 7, 256)         0         \n",
            "_________________________________________________________________\n",
            "flatten_4 (Flatten)          (None, 12544)             0         \n",
            "_________________________________________________________________\n",
            "dense_16 (Dense)             (None, 128)               1605760   \n",
            "_________________________________________________________________\n",
            "activation_31 (Activation)   (None, 128)               0         \n",
            "_________________________________________________________________\n",
            "dense_17 (Dense)             (None, 64)                8256      \n",
            "_________________________________________________________________\n",
            "activation_32 (Activation)   (None, 64)                0         \n",
            "_________________________________________________________________\n",
            "dense_18 (Dense)             (None, 32)                2080      \n",
            "_________________________________________________________________\n",
            "activation_33 (Activation)   (None, 32)                0         \n",
            "_________________________________________________________________\n",
            "dense_19 (Dense)             (None, 12)                396       \n",
            "_________________________________________________________________\n",
            "activation_34 (Activation)   (None, 12)                0         \n",
            "=================================================================\n",
            "Total params: 1,986,156\n",
            "Trainable params: 1,986,156\n",
            "Non-trainable params: 0\n",
            "_________________________________________________________________\n"
          ],
          "name": "stdout"
        }
      ]
    }
  ]
}